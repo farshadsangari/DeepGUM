{
 "cells": [
  {
   "attachments": {},
   "cell_type": "markdown",
   "metadata": {},
   "source": [
    "# Import libraries"
   ]
  },
  {
   "cell_type": "code",
   "execution_count": null,
   "metadata": {},
   "outputs": [],
   "source": [
    "import numpy as np\n",
    "import matplotlib.pyplot as plt"
   ]
  },
  {
   "attachments": {},
   "cell_type": "markdown",
   "metadata": {},
   "source": [
    "# Plot statistics"
   ]
  },
  {
   "cell_type": "code",
   "execution_count": null,
   "metadata": {},
   "outputs": [],
   "source": [
    "def plots(EM_statistics):\n",
    "    \n",
    "    Rtrain = [1]\n",
    "    for i in range(len(EM_statistics['Rs'])):\n",
    "        for j in range(len(EM_statistics['Rs'][i]['R_train'])):\n",
    "            Rtrain.append(np.mean(list(EM_statistics['Rs'][i]['R_train'][j].squeeze())))\n",
    "\n",
    "    Rval = [1]\n",
    "    for i in range(len(list(EM_statistics['Rs']))):\n",
    "        Rval.append(np.mean(list(EM_statistics['Rs'][i]['R_val'][0].squeeze())))\n",
    "        \n",
    "    trloss = {'mse':[], 'mae':[]}\n",
    "    valoss = {'mse':[], 'mae':[]}\n",
    "    for i in range(len(EM_statistics['MSE_loss'])):\n",
    "        trloss['mse'] = trloss['mse'] + EM_statistics['MSE_loss'][i]['train_loss']\n",
    "        valoss['mse'] = valoss['mse'] + EM_statistics['MSE_loss'][i]['val_loss']\n",
    "        trloss['mae'] = trloss['mae'] + EM_statistics['MAE_loss'][i]['train_loss']\n",
    "        valoss['mae'] = valoss['mae'] + EM_statistics['MAE_loss'][i]['val_loss']\n",
    "\n",
    "    \n",
    "    plt.figure(figsize=(15,9))\n",
    "    plt.subplot(221)\n",
    "    plt.plot(range(1,17), valoss['mse'], linewidth=2, label='Validation')\n",
    "    plt.plot(range(1,17), trloss['mse'], linewidth=2, label='Train')\n",
    "    plt.xlabel('Step', fontsize=15)\n",
    "    plt.ylabel('Loss', fontsize=15)\n",
    "    plt.xticks(range(1,17),range(1,17))\n",
    "    plt.title('MSE Loss', fontsize=25)\n",
    "    plt.legend(fontsize=20)\n",
    "\n",
    "    plt.subplot(223)\n",
    "    plt.plot(range(1,17), valoss['mae'], linewidth=2, label='Validation')\n",
    "    plt.plot(range(1,17), trloss['mae'], linewidth=2, label='Train')\n",
    "    plt.xlabel('Step', fontsize=15)\n",
    "    plt.ylabel('Loss', fontsize=15)\n",
    "    plt.xticks(range(1,17),range(1,17))\n",
    "    plt.title('MAE Loss', fontsize=25)\n",
    "    plt.legend(fontsize=20)\n",
    "\n",
    "    plt.subplot(222)\n",
    "    plt.plot(range(1,7), Rval, linewidth=3)\n",
    "    plt.xlabel('Step', fontsize=15)\n",
    "    plt.ylabel('Responsibility', fontsize=15)\n",
    "    plt.xticks(range(1,7),range(1,7))\n",
    "    plt.title('Validation Responsibility', fontsize=25)\n",
    "\n",
    "    plt.subplot(224)\n",
    "    plt.plot(range(1,17), Rtrain, linewidth=3)\n",
    "    plt.xlabel('Step', fontsize=15)\n",
    "    plt.ylabel('Responsibility', fontsize=15)\n",
    "    plt.xticks(range(1,17),range(1,17))\n",
    "    plt.title('Train Responsibility', fontsize=25)\n",
    "    sns.despine()\n",
    "    \n",
    "    plt.tight_layout(pad=2)"
   ]
  },
  {
   "cell_type": "code",
   "execution_count": null,
   "metadata": {},
   "outputs": [],
   "source": []
  }
 ],
 "metadata": {
  "language_info": {
   "name": "python"
  },
  "orig_nbformat": 4
 },
 "nbformat": 4,
 "nbformat_minor": 2
}
